{
 "cells": [
  {
   "cell_type": "code",
   "execution_count": null,
   "id": "1035ba47-af67-478b-8b08-248cc07e7c09",
   "metadata": {},
   "outputs": [],
   "source": [
    "# Q1 (i) = string variable"
   ]
  },
  {
   "cell_type": "code",
   "execution_count": 4,
   "id": "359902f6-9011-4455-8ef3-9bff7f9e16f6",
   "metadata": {},
   "outputs": [
    {
     "name": "stdout",
     "output_type": "stream",
     "text": [
      "I want 5 pieces of item 25 for 50.64 rupees. \n"
     ]
    }
   ],
   "source": [
    "quantity = 5\n",
    "itemno = 25\n",
    "price = 50.64\n",
    "myorder = \"I want {} pieces of item {} for {} rupees. \"\n",
    "print(myorder. format(quantity, itemno, price))"
   ]
  },
  {
   "cell_type": "code",
   "execution_count": null,
   "id": "f27dd3f7-b61c-43ba-8702-e4524cfd30de",
   "metadata": {},
   "outputs": [],
   "source": [
    "# Q1 (ii) = list variable"
   ]
  },
  {
   "cell_type": "code",
   "execution_count": 2,
   "id": "d82ea5e2-2c1d-4686-bed8-406fafa95de0",
   "metadata": {},
   "outputs": [
    {
     "name": "stdout",
     "output_type": "stream",
     "text": [
      "['apple', 'banana', 'cherry']\n",
      "[1, 5, 7, 9, 3]\n",
      "[True, False, False]\n",
      "['car', 'aeroplane', 'submarine']\n",
      "['a+7j', 'b+5j', 'c+2j']\n"
     ]
    }
   ],
   "source": [
    "list1 = [\"apple\", \"banana\", \"cherry\"]\n",
    "list2 = [1, 5, 7, 9, 3]\n",
    "list3 = [True, False, False]\n",
    "list4 = [\"car\", \"aeroplane\", \"submarine\"]\n",
    "list5 = [\"a+7j\" , \"b+5j\" , \"c+2j\"]\n",
    "\n",
    "print(list1)\n",
    "print(list2)\n",
    "print(list3)\n",
    "print(list4)\n",
    "print(list5)\n"
   ]
  },
  {
   "cell_type": "code",
   "execution_count": null,
   "id": "57ce7946-241e-4b17-8fea-1f0c602d7dbf",
   "metadata": {},
   "outputs": [],
   "source": [
    "# Q1(iii) = float variable"
   ]
  },
  {
   "cell_type": "code",
   "execution_count": 1,
   "id": "a784d61b-5775-421e-996c-4105eaf9e3d5",
   "metadata": {},
   "outputs": [
    {
     "name": "stdout",
     "output_type": "stream",
     "text": [
      "222.73000000000002\n"
     ]
    }
   ],
   "source": [
    "a = 10.23\n",
    "b = 20\n",
    "c = 40.30\n",
    "d = 52.21\n",
    "e = 99.99\n",
    "print(a + b + c + d + e)"
   ]
  },
  {
   "cell_type": "code",
   "execution_count": null,
   "id": "fc203047-1051-47cf-b1fa-b4571eff80b9",
   "metadata": {},
   "outputs": [],
   "source": [
    "# Q1(iv) = tuple"
   ]
  },
  {
   "cell_type": "code",
   "execution_count": 1,
   "id": "9fc63cd5-ee32-4b3f-95df-b9b2b76e33d9",
   "metadata": {},
   "outputs": [
    {
     "name": "stdout",
     "output_type": "stream",
     "text": [
      "10\n",
      "20\n",
      "30\n",
      "40\n"
     ]
    }
   ],
   "source": [
    "tuple1 = (10, 20, 30, 40)\n",
    "\n",
    "a, b, c, d = tuple1\n",
    "print(a)\n",
    "print(b)\n",
    "print(c)\n",
    "print(d)"
   ]
  },
  {
   "cell_type": "code",
   "execution_count": null,
   "id": "89c46495-ebfc-40f5-8612-65b98da0cefd",
   "metadata": {},
   "outputs": [],
   "source": [
    "# Q2\n",
    "\n",
    "# var1 = string\n",
    "# var2 = string\n",
    "# var3 = list\n",
    "# var4 = integer"
   ]
  },
  {
   "cell_type": "code",
   "execution_count": 1,
   "id": "bcf111cc-130c-4b54-a213-b482ebc73244",
   "metadata": {},
   "outputs": [
    {
     "name": "stdout",
     "output_type": "stream",
     "text": [
      "5.0\n"
     ]
    }
   ],
   "source": [
    "# Q3\n",
    "\t\n",
    "# (i) /\tDivision\tx / y\t\n",
    "\n",
    "x = 10\n",
    "y = 2\n",
    "print(x/y)"
   ]
  },
  {
   "cell_type": "code",
   "execution_count": 2,
   "id": "e842a51f-79d7-4307-b7aa-c1f39c7f3a61",
   "metadata": {},
   "outputs": [
    {
     "name": "stdout",
     "output_type": "stream",
     "text": [
      "10\n"
     ]
    }
   ],
   "source": [
    "# (%)\tModulus\tx % y\t\n",
    "x = 10\n",
    "y = 100\n",
    "print(x%y)"
   ]
  },
  {
   "cell_type": "code",
   "execution_count": 5,
   "id": "3a93cab4-543d-4a92-b321-e1c86f1c5b45",
   "metadata": {},
   "outputs": [
    {
     "name": "stdout",
     "output_type": "stream",
     "text": [
      "100\n"
     ]
    }
   ],
   "source": [
    "# (**)\tExponentiation\tx ** y\t\n",
    "x = 10\n",
    "y = 2\n",
    "print(x**y)"
   ]
  },
  {
   "cell_type": "code",
   "execution_count": null,
   "id": "88263170-88fc-474a-9630-b9405b3e27b9",
   "metadata": {},
   "outputs": [],
   "source": [
    "# (//)\tFloor division\tx // y"
   ]
  },
  {
   "cell_type": "code",
   "execution_count": 8,
   "id": "998e5162-2544-4311-a825-52f78929dde2",
   "metadata": {},
   "outputs": [
    {
     "name": "stdout",
     "output_type": "stream",
     "text": [
      "5\n"
     ]
    }
   ],
   "source": [
    "x = 10\n",
    "y = 2\n",
    "print(x//y)"
   ]
  },
  {
   "cell_type": "code",
   "execution_count": 48,
   "id": "55d81951-c4fc-44f6-b2e4-84249d29e9bd",
   "metadata": {},
   "outputs": [
    {
     "name": "stdout",
     "output_type": "stream",
     "text": [
      "The variable, name is of type: <class 'list'>\n",
      "The variable, score is of type: <class 'float'>\n",
      "The variable, lessons is of type: <class 'list'>\n",
      "The variable, person is of type: <class 'dict'>\n",
      "The variable, langs is of type: <class 'tuple'>\n",
      "The variable, basics is of type: <class 'set'>\n",
      "The variable, basics is of type: <class 'dict'>\n",
      "The variable, basics is of type: <class 'set'>\n",
      "The variable, basics is of type: <class 'int'>\n",
      "The variable, basics is of type: <class 'set'>\n",
      "elementary\n",
      "math\n",
      "geo\n",
      "sanskrit\n",
      "eng\n",
      "hindi\n",
      "odia\n",
      "tense\n",
      "algebra\n",
      "mean\n",
      "1\n",
      "2\n"
     ]
    }
   ],
   "source": [
    "# Q4 \n",
    "name = [\"elementary\"]\n",
    "\n",
    "score = 99.99\n",
    "\n",
    "lessons =  [\"math\", \"geo\", \"sanskrit\"]\n",
    "\n",
    "person = {\n",
    "    \"firstName\": \"koyel\",\n",
    "    \"lastName\": \"Das\",\n",
    "    \"age\": 28}\n",
    "\n",
    "langs = (\"eng\", \"hindi\", \"odia\")\n",
    "\n",
    "basics = {\"algebra\", \"tense\", \"mean\"}\n",
    "\n",
    "dic1  = {1:10, 2:20}\n",
    "\n",
    "school = { \"st Marys\" }\n",
    "\n",
    "std = 7\n",
    "\n",
    "attendance = {\"99 percent\"}\n",
    "\n",
    "\n",
    "print(\"The variable, name is of type:\", type(name))\n",
    "print(\"The variable, score is of type:\", type(score))\n",
    "print(\"The variable, lessons is of type:\", type(lessons))\n",
    "print(\"The variable, person is of type:\", type(person))\n",
    "print(\"The variable, langs is of type:\", type(langs))\n",
    "print(\"The variable, basics is of type:\", type(basics))\n",
    "print(\"The variable, basics is of type:\", type(dic1))\n",
    "print(\"The variable, basics is of type:\", type(school))\n",
    "print(\"The variable, basics is of type:\", type(std))\n",
    "print(\"The variable, basics is of type:\", type(attendance))\n",
    "\n",
    "\n",
    "for i in name:\n",
    "    print(i)\n",
    "for i in lessons:\n",
    "    print(i)    \n",
    "\n",
    "for i in langs:\n",
    "    print(i)    \n",
    "for i in basics:\n",
    "    print(i)  \n",
    "for i in dic1:\n",
    "    print(i)    "
   ]
  },
  {
   "cell_type": "code",
   "execution_count": 1,
   "id": "be3c9395-f618-41b3-a19c-5056be427ff0",
   "metadata": {},
   "outputs": [
    {
     "name": "stdout",
     "output_type": "stream",
     "text": [
      "60 is divisible by 3 and can be divided 1 times.\n"
     ]
    }
   ],
   "source": [
    "# Q5\n",
    "def divisible_count(a, b):\n",
    "    count = 0\n",
    "    while a % b == 0:\n",
    "        count += 1\n",
    "        a /= b\n",
    "    return count\n",
    "\n",
    "# Example usage\n",
    "number_a = 60\n",
    "number_b = 3\n",
    "\n",
    "result = divisible_count(number_a, number_b)\n",
    "if result > 0:\n",
    "    print(f\"{number_a} is divisible by {number_b} and can be divided {result} times.\")\n",
    "else:\n",
    "    print(f\"{number_a} is not divisible by {number_b}.\")"
   ]
  },
  {
   "cell_type": "code",
   "execution_count": 2,
   "id": "7b0547d4-ca1c-43a7-9898-e8ddd9f12c25",
   "metadata": {},
   "outputs": [
    {
     "name": "stdout",
     "output_type": "stream",
     "text": [
      "7 is not divisible by 3.\n",
      "12 is divisible by 3.\n",
      "5 is not divisible by 3.\n",
      "36 is divisible by 3.\n",
      "42 is divisible by 3.\n",
      "9 is divisible by 3.\n",
      "17 is not divisible by 3.\n",
      "20 is not divisible by 3.\n",
      "15 is divisible by 3.\n",
      "21 is divisible by 3.\n",
      "8 is not divisible by 3.\n",
      "33 is divisible by 3.\n",
      "28 is not divisible by 3.\n",
      "11 is not divisible by 3.\n",
      "16 is not divisible by 3.\n",
      "27 is divisible by 3.\n",
      "30 is divisible by 3.\n",
      "14 is not divisible by 3.\n",
      "18 is divisible by 3.\n",
      "25 is not divisible by 3.\n",
      "6 is divisible by 3.\n",
      "23 is not divisible by 3.\n",
      "10 is not divisible by 3.\n",
      "39 is divisible by 3.\n",
      "4 is not divisible by 3.\n"
     ]
    }
   ],
   "source": [
    "# Q6\n",
    "\n",
    "# Create a list of 25 integers\n",
    "numbers = [7, 12, 5, 36, 42, 9, 17, 20, 15, 21, 8, 33, 28, 11, 16, 27, 30, 14, 18, 25, 6, 23, 10, 39, 4]\n",
    "\n",
    "# Iterate over the list using a for loop\n",
    "for number in numbers:\n",
    "    if number % 3 == 0:\n",
    "        print(f\"{number} is divisible by 3.\")\n",
    "    else:\n",
    "        print(f\"{number} is not divisible by 3.\")"
   ]
  },
  {
   "cell_type": "code",
   "execution_count": 3,
   "id": "192b31f7-7e9d-4441-b17d-c6cfddcf33b6",
   "metadata": {},
   "outputs": [
    {
     "name": "stdout",
     "output_type": "stream",
     "text": [
      "[1, 2, 3]\n",
      "[1, 2, 3, 4]\n",
      "[10, 2, 3, 4]\n"
     ]
    }
   ],
   "source": [
    "# Q7\n",
    "# Mutable Data Types:\n",
    "# Mutable data types are those whose values can be changed after they are created. \n",
    "# In other words, you can modify the data in-place without creating a new object. \n",
    "# Some examples of mutable data types in Python include lists, dictionaries, and sets.\n",
    "\n",
    "# Example of a mutable data type (list)\n",
    "my_list = [1, 2, 3]\n",
    "print(my_list)  # Output: [1, 2, 3]\n",
    "\n",
    "my_list.append(4)\n",
    "print(my_list)  # Output: [1, 2, 3, 4]\n",
    "\n",
    "my_list[0] = 10\n",
    "print(my_list)  # Output: [10, 2, 3, 4]\n"
   ]
  },
  {
   "cell_type": "code",
   "execution_count": 4,
   "id": "0f083c0e-e3fe-42f2-b88d-da040074664e",
   "metadata": {},
   "outputs": [
    {
     "name": "stdout",
     "output_type": "stream",
     "text": [
      "Hello\n",
      "Hello World\n",
      "(1, 2, 3)\n"
     ]
    },
    {
     "ename": "TypeError",
     "evalue": "'tuple' object does not support item assignment",
     "output_type": "error",
     "traceback": [
      "\u001b[0;31m---------------------------------------------------------------------------\u001b[0m",
      "\u001b[0;31mTypeError\u001b[0m                                 Traceback (most recent call last)",
      "Cell \u001b[0;32mIn[4], line 20\u001b[0m\n\u001b[1;32m     17\u001b[0m \u001b[38;5;28mprint\u001b[39m(my_tuple)  \u001b[38;5;66;03m# Output: (1, 2, 3)\u001b[39;00m\n\u001b[1;32m     19\u001b[0m \u001b[38;5;66;03m# Trying to modify the tuple will raise an error\u001b[39;00m\n\u001b[0;32m---> 20\u001b[0m \u001b[43mmy_tuple\u001b[49m\u001b[43m[\u001b[49m\u001b[38;5;241;43m0\u001b[39;49m\u001b[43m]\u001b[49m \u001b[38;5;241m=\u001b[39m \u001b[38;5;241m10\u001b[39m  \u001b[38;5;66;03m# Raises TypeError: 'tuple' object does not support item assignment\u001b[39;00m\n",
      "\u001b[0;31mTypeError\u001b[0m: 'tuple' object does not support item assignment"
     ]
    }
   ],
   "source": [
    "# Q7 \n",
    "# Immutable Data Types:\n",
    "# Immutable data types, on the other hand, are those whose values cannot be changed once they are created. \n",
    "# If you want to modify the data, you need to create a new object. \n",
    "# Some examples of immutable data types in Python include integers, floats, strings, and tuples.\n",
    "\n",
    "\n",
    "# Example of an immutable data type (string)\n",
    "my_string = \"Hello\"\n",
    "print(my_string)  # Output: Hello\n",
    "\n",
    "my_string += \" World\"\n",
    "print(my_string)  # Output: Hello World\n",
    "\n",
    "# Example of an immutable data type (tuple)\n",
    "my_tuple = (1, 2, 3)\n",
    "print(my_tuple)  # Output: (1, 2, 3)\n",
    "\n",
    "# Trying to modify the tuple will raise an error\n",
    "my_tuple[0] = 10  # Raises TypeError: 'tuple' object does not support item assignment\n",
    "\n",
    "\n",
    "\n",
    "\n"
   ]
  },
  {
   "cell_type": "code",
   "execution_count": null,
   "id": "1588d085-82fd-46ac-b62b-cd5e61c28138",
   "metadata": {},
   "outputs": [],
   "source": []
  }
 ],
 "metadata": {
  "kernelspec": {
   "display_name": "Python 3 (ipykernel)",
   "language": "python",
   "name": "python3"
  },
  "language_info": {
   "codemirror_mode": {
    "name": "ipython",
    "version": 3
   },
   "file_extension": ".py",
   "mimetype": "text/x-python",
   "name": "python",
   "nbconvert_exporter": "python",
   "pygments_lexer": "ipython3",
   "version": "3.10.8"
  }
 },
 "nbformat": 4,
 "nbformat_minor": 5
}
